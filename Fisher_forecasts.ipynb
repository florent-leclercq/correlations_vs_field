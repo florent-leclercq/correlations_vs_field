{
 "cells": [
  {
   "cell_type": "code",
   "execution_count": 1,
   "metadata": {},
   "outputs": [],
   "source": [
    "import numpy as np\n",
    "import matplotlib.pyplot as plt\n",
    "from libLN import LogNormalField\n",
    "from scipy.stats import norm"
   ]
  },
  {
   "cell_type": "code",
   "execution_count": 2,
   "metadata": {},
   "outputs": [],
   "source": [
    "def conditional_errors(F):   \n",
    "    import numpy as np\n",
    "    conditional_error_alpha=1/np.sqrt(F[0,0])\n",
    "    conditional_error_beta=1/np.sqrt(F[1,1])\n",
    "    return np.array([conditional_error_alpha, conditional_error_beta])\n",
    "\n",
    "def marginal_errors(F):\n",
    "    import numpy as np\n",
    "    iF=np.linalg.inv(F)\n",
    "    marginal_error_alpha=np.sqrt(iF[0,0])\n",
    "    marginal_error_beta=np.sqrt(iF[1,1])\n",
    "    return np.array([marginal_error_alpha, marginal_error_beta])"
   ]
  },
  {
   "cell_type": "markdown",
   "metadata": {},
   "source": [
    "# Fisher forecast for the 2PCF analysis"
   ]
  },
  {
   "cell_type": "code",
   "execution_count": 3,
   "metadata": {},
   "outputs": [],
   "source": [
    "def Fisher_matrix_2PCF_Gaussian(Sigma_hat,dxiLN_dalpha,dxiLN_dbeta):\n",
    "    # Equation (15) in Tegmark, Taylor & Heavens (1997),\n",
    "    # when the covariance matrix doesn't depend on parameters\n",
    "    import numpy as np\n",
    "    M_aa = np.outer(dxiLN_dalpha,dxiLN_dalpha) + np.outer(dxiLN_dalpha,dxiLN_dalpha)\n",
    "    M_ab = np.outer(dxiLN_dalpha,dxiLN_dbeta) + np.outer(dxiLN_dbeta,dxiLN_dalpha)\n",
    "    M_bb = np.outer(dxiLN_dbeta,dxiLN_dbeta) + np.outer(dxiLN_dbeta,dxiLN_dbeta)\n",
    "    \n",
    "    iSigma_hat=np.linalg.inv(Sigma_hat)\n",
    "    \n",
    "    F_aa = 1/2 * np.trace(iSigma_hat.dot(M_aa))\n",
    "    F_ab = 1/2 * np.trace(iSigma_hat.dot(M_ab))\n",
    "    F_bb = 1/2 * np.trace(iSigma_hat.dot(M_bb))\n",
    "    \n",
    "    return np.array([[F_aa,F_ab],[F_ab,F_bb]])\n",
    "\n",
    "def Fisher_matrix_2PCF_tdistribution(Sigma_hat,dxiLN_dalpha,dxiLN_dbeta,nsims):\n",
    "    import numpy as np\n",
    "    # Equation (28) in Sellentin & Heavens (2016), arXiv:1609.00504\n",
    "    A = np.array([dxiLN_dalpha,dxiLN_dbeta]) # Equation (16)\n",
    "    p, ndata = A.shape\n",
    "    prefactor = (nsims-1.)/(nsims-p+ndata-1.)\n",
    "    \n",
    "    iSigma_hat=np.linalg.inv(Sigma_hat)\n",
    "    \n",
    "    F = 1./prefactor * A.dot(iSigma_hat).dot(A.T)\n",
    "    \n",
    "    return F"
   ]
  },
  {
   "cell_type": "code",
   "execution_count": 4,
   "metadata": {},
   "outputs": [],
   "source": [
    "def get_marginal_errors_LBA(alphas, betas, lnL):\n",
    "    marg_alpha=np.sum(np.exp(lnL),axis=0)\n",
    "    alpha_mean=np.sum(alphas * marg_alpha)/np.sum(marg_alpha)\n",
    "    alpha_std=np.sqrt(np.sum((alphas-alpha_mean)**2 * marg_alpha) / np.sum(marg_alpha))\n",
    "    gfit_alpha=norm.pdf(alphas,loc=alpha_mean,scale=alpha_std)\n",
    "\n",
    "    marg_beta=np.sum(np.exp(lnL),axis=1)\n",
    "    beta_mean=np.sum(betas * marg_beta)/np.sum(marg_beta)\n",
    "    beta_std=np.sqrt(np.sum((betas-beta_mean)**2 * marg_beta) / np.sum(marg_beta))\n",
    "    gfit_beta=norm.pdf(betas,loc=beta_mean,scale=beta_std)\n",
    "    \n",
    "    return alpha_mean, alpha_std, marg_alpha, gfit_alpha, beta_mean, beta_std, marg_beta, gfit_beta"
   ]
  },
  {
   "cell_type": "code",
   "execution_count": 5,
   "metadata": {},
   "outputs": [
    {
     "name": "stdout",
     "output_type": "stream",
     "text": [
      "Figures saved at figures/Output20_05_10_80_80_500_80_1_123456\n",
      "Simulations saved at data/Sims20_05_10_80_80_500_80_1_123456\n"
     ]
    }
   ],
   "source": [
    "run config_10.py"
   ]
  },
  {
   "cell_type": "code",
   "execution_count": 6,
   "metadata": {},
   "outputs": [],
   "source": [
    "with np.load(dataout+'_mean_cov_theory.npz') as A:\n",
    "    Sigma_hat=A['cov']\n",
    "    dxiLN_dalpha=A['dxiLN_dalpha']\n",
    "    dxiLN_dbeta=A['dxiLN_dbeta']"
   ]
  },
  {
   "cell_type": "code",
   "execution_count": 7,
   "metadata": {},
   "outputs": [
    {
     "name": "stdout",
     "output_type": "stream",
     "text": [
      "Lside = 20\n",
      "alpha = 1.0\n",
      "beta = 0.5\n",
      "\n",
      "Fisher matrix (Gaussian):\n",
      "[[ 11.04834926 -37.09275107]\n",
      " [-37.09275107 386.78492697]]\n",
      "\n",
      "Expected errors (Cramér-Rao bounds) (Gaussian):\n",
      "[0.36536407 0.0617504 ]\n",
      "\n",
      "Fisher matrix (t-distribution):\n",
      "[[ 12.50965397 -41.99880632]\n",
      " [-41.99880632 437.94285318]]\n",
      "(prefactor = 1.1322645290581164)\n",
      "\n",
      "Expected errors (Cramér-Rao bounds) (t-distribution):\n",
      "[0.34336173 0.05803177]\n",
      "\n",
      "Realised errors (LBA):\n",
      "[0.3550974557132023, 0.06405368827263044] data/Data20_05_10_80_80_500_80_1_123456_summaries_4fields.npz lnL0\n",
      "[0.38843221423139507, 0.05963642720310416] data/Data20_05_10_80_80_500_80_1_123456_summaries_4fields.npz lnL1\n",
      "[0.3936813424648257, 0.06679714882157421] data/Data20_05_10_80_80_500_80_1_123456_summaries_4fields.npz lnL2\n",
      "[0.3523135698226955, 0.05236256658278093] data/Data20_05_10_80_80_500_80_1_123456_summaries_4fields.npz lnL3\n",
      "\n",
      "Realised errors (SBI):\n",
      "[0.3275050862881769, 0.07818949958231058] data/Data20_05_10_80_80_500_80_1_123456_sbi_field0_eps5_samples_posterior.npz\n",
      "[0.3526389409656133, 0.08028029317618603] data/Data20_05_10_80_80_500_80_1_123456_sbi_field1_eps5_samples_posterior.npz\n",
      "[0.401580765001554, 0.07817052160755679] data/Data20_05_10_80_80_500_80_1_123456_sbi_field2_eps5_samples_posterior.npz\n",
      "[0.34406069013291096, 0.07749945767135398] data/Data20_05_10_80_80_500_80_1_123456_sbi_field3_eps5_samples_posterior.npz\n"
     ]
    }
   ],
   "source": [
    "print(\"Lside =\", Lside)\n",
    "print(\"alpha =\", alpha)\n",
    "print(\"beta =\", beta)\n",
    "print(\"\")\n",
    "\n",
    "F=Fisher_matrix_2PCF_Gaussian(Sigma_hat,dxiLN_dalpha,dxiLN_dbeta)\n",
    "print(\"Fisher matrix (Gaussian):\")\n",
    "print(F)\n",
    "print(\"\")\n",
    "\n",
    "print(\"Expected errors (Cramér-Rao bounds) (Gaussian):\")\n",
    "print(marginal_errors(F))\n",
    "print(\"\")\n",
    "\n",
    "Ft=Fisher_matrix_2PCF_tdistribution(Sigma_hat,dxiLN_dalpha,dxiLN_dbeta,nsims)\n",
    "print(\"Fisher matrix (t-distribution):\")\n",
    "print(Ft)\n",
    "p, ndata = 2, len(dxiLN_dalpha)\n",
    "prefactor=(nsims-1.)/(nsims-p+ndata-1.)\n",
    "print(\"(prefactor = {})\".format(1/prefactor))\n",
    "print(\"\")\n",
    "\n",
    "print(\"Expected errors (Cramér-Rao bounds) (t-distribution):\")\n",
    "print(marginal_errors(Ft))\n",
    "print(\"\")\n",
    "\n",
    "print(\"Realised errors (LBA):\")\n",
    "nfields = 4\n",
    "fname = dataout+'_summaries_'+str(nfields)+'fields.npz'\n",
    "with np.load(fname) as B:\n",
    "    alphas=B['alphas']\n",
    "    betas=B['betas']\n",
    "    for lnL in ['lnL0', 'lnL1', 'lnL2', 'lnL3']:\n",
    "        BlnL = B[lnL]\n",
    "        alpha_mean, alpha_std, marg_alpha, gfit_alpha, beta_mean, beta_std, marg_beta, gfit_beta = get_marginal_errors_LBA(alphas,betas,BlnL)\n",
    "        print([alpha_std, beta_std], fname, lnL)\n",
    "\n",
    "print(\"\")\n",
    "print(\"Realised errors (SBI):\")\n",
    "epsilon = 0.05\n",
    "for f in range(nfields):\n",
    "    fname = dataout+'_sbi_field'+str(f)+'_eps'+str(int(100*epsilon))+'_samples_posterior.npz'\n",
    "    with np.load(fname) as C:\n",
    "        sbi_samples=C['samples']\n",
    "        print([np.std(sbi_samples.T[0]), np.std(sbi_samples.T[1])], fname)"
   ]
  },
  {
   "cell_type": "code",
   "execution_count": 8,
   "metadata": {},
   "outputs": [
    {
     "name": "stdout",
     "output_type": "stream",
     "text": [
      "Figures saved at figures/Output20_05_02_80_80_500_80_1_123457\n",
      "Simulations saved at data/Sims20_05_02_80_80_500_80_1_123457\n"
     ]
    }
   ],
   "source": [
    "run config_02.py"
   ]
  },
  {
   "cell_type": "code",
   "execution_count": 9,
   "metadata": {},
   "outputs": [],
   "source": [
    "with np.load(dataout+'_mean_cov_theory.npz') as A:\n",
    "    Sigma_hat=A['cov']\n",
    "    dxiLN_dalpha=A['dxiLN_dalpha']\n",
    "    dxiLN_dbeta=A['dxiLN_dbeta']"
   ]
  },
  {
   "cell_type": "code",
   "execution_count": 10,
   "metadata": {},
   "outputs": [
    {
     "name": "stdout",
     "output_type": "stream",
     "text": [
      "Lside = 20\n",
      "alpha = 0.2\n",
      "beta = 0.5\n",
      "\n",
      "Fisher matrix (Gaussian):\n",
      "[[  19.01559753 -271.09331167]\n",
      " [-271.09331167 4921.36113993]]\n",
      "\n",
      "Expected errors (Cramér-Rao bounds) (Gaussian):\n",
      "[0.49492731 0.03076478]\n",
      "\n",
      "Fisher matrix (t-distribution):\n",
      "[[  21.53068658 -306.94934087]\n",
      " [-306.94934087 5572.28265343]]\n",
      "(prefactor = 1.1322645290581164)\n",
      "\n",
      "Expected errors (Cramér-Rao bounds) (t-distribution):\n",
      "[0.46512263 0.02891211]\n",
      "\n",
      "Realised errors (LBA):\n",
      "[0.1796786540937687, 0.02440064588985845] data/Data20_05_02_80_80_500_80_1_123457_summaries_4fields.npz lnL0\n",
      "[0.1837891751408397, 0.02236451004371434] data/Data20_05_02_80_80_500_80_1_123457_summaries_4fields.npz lnL1\n",
      "[0.1981696861592635, 0.02780621066569501] data/Data20_05_02_80_80_500_80_1_123457_summaries_4fields.npz lnL2\n",
      "[0.19610759111860973, 0.028022921600624116] data/Data20_05_02_80_80_500_80_1_123457_summaries_4fields.npz lnL3\n",
      "\n",
      "Realised errors (SBI):\n",
      "[0.3306949505735768, 0.04990496196808576] data/Data20_05_02_80_80_500_80_1_123457_sbi_field0_eps5_samples_posterior.npz\n",
      "[0.3782283365446418, 0.04925352583997435] data/Data20_05_02_80_80_500_80_1_123457_sbi_field1_eps5_samples_posterior.npz\n",
      "[0.35808827657900016, 0.05385809333398852] data/Data20_05_02_80_80_500_80_1_123457_sbi_field2_eps5_samples_posterior.npz\n",
      "[0.32665264597503585, 0.059804279859384836] data/Data20_05_02_80_80_500_80_1_123457_sbi_field3_eps5_samples_posterior.npz\n"
     ]
    }
   ],
   "source": [
    "print(\"Lside =\", Lside)\n",
    "print(\"alpha =\", alpha)\n",
    "print(\"beta =\", beta)\n",
    "print(\"\")\n",
    "\n",
    "F=Fisher_matrix_2PCF_Gaussian(Sigma_hat,dxiLN_dalpha,dxiLN_dbeta)\n",
    "print(\"Fisher matrix (Gaussian):\")\n",
    "print(F)\n",
    "print(\"\")\n",
    "\n",
    "print(\"Expected errors (Cramér-Rao bounds) (Gaussian):\")\n",
    "print(marginal_errors(F))\n",
    "print(\"\")\n",
    "\n",
    "Ft=Fisher_matrix_2PCF_tdistribution(Sigma_hat,dxiLN_dalpha,dxiLN_dbeta,nsims)\n",
    "print(\"Fisher matrix (t-distribution):\")\n",
    "print(Ft)\n",
    "p, ndata = 2, len(dxiLN_dalpha)\n",
    "prefactor=(nsims-1.)/(nsims-p+ndata-1.)\n",
    "print(\"(prefactor = {})\".format(1/prefactor))\n",
    "print(\"\")\n",
    "\n",
    "print(\"Expected errors (Cramér-Rao bounds) (t-distribution):\")\n",
    "print(marginal_errors(Ft))\n",
    "print(\"\")\n",
    "\n",
    "print(\"Realised errors (LBA):\")\n",
    "nfields = 4\n",
    "fname = dataout+'_summaries_'+str(nfields)+'fields.npz'\n",
    "with np.load(fname) as B:\n",
    "    alphas=B['alphas']\n",
    "    betas=B['betas']\n",
    "    for lnL in ['lnL0', 'lnL1', 'lnL2', 'lnL3']:\n",
    "        BlnL = B[lnL]\n",
    "        alpha_mean, alpha_std, marg_alpha, gfit_alpha, beta_mean, beta_std, marg_beta, gfit_beta = get_marginal_errors_LBA(alphas,betas,BlnL)\n",
    "        print([alpha_std, beta_std], fname, lnL)\n",
    "\n",
    "print(\"\")\n",
    "print(\"Realised errors (SBI):\")\n",
    "epsilon = 0.05\n",
    "for f in range(nfields):\n",
    "    fname = dataout+'_sbi_field'+str(f)+'_eps'+str(int(100*epsilon))+'_samples_posterior.npz'\n",
    "    with np.load(fname) as C:\n",
    "        sbi_samples=C['samples']\n",
    "        print([np.std(sbi_samples.T[0]), np.std(sbi_samples.T[1])], fname)"
   ]
  },
  {
   "cell_type": "markdown",
   "metadata": {},
   "source": [
    "# Field definitions"
   ]
  },
  {
   "cell_type": "markdown",
   "metadata": {},
   "source": [
    "$$f \\equiv \\frac{1}{\\alpha}\\left[ \\exp\\left(\\alpha g - \\frac{\\alpha^2}{2}\\right) -1 \\right]$$\n",
    "$$g \\equiv \\frac{1}{\\alpha} \\left[ \\ln(\\alpha f +1) + \\frac{\\alpha^2}{2} \\right]$$\n",
    "$$h \\equiv \\frac{f}{\\alpha f+1} = \\frac{1}{\\alpha} \\left[ 1-\\exp(-\\alpha g + \\frac{\\alpha^2}{2}) \\right]$$"
   ]
  },
  {
   "cell_type": "code",
   "execution_count": 11,
   "metadata": {},
   "outputs": [],
   "source": [
    "def h(gaussian, alpha):\n",
    "    from libLN import LogNormalField\n",
    "    f=LogNormalField.G_to_LN(gaussian, alpha)\n",
    "    return f/(alpha*f + 1)"
   ]
  },
  {
   "cell_type": "markdown",
   "metadata": {},
   "source": [
    "$$g_{,\\alpha} = -\\frac{1}{\\alpha} g + \\frac{1}{\\alpha} h + 1$$\n",
    "$$g_{,\\alpha \\alpha} = \\frac{2}{\\alpha^2} g - \\frac{1}{\\alpha} - \\frac{2}{\\alpha^2}h - \\frac{1}{\\alpha}h^2$$"
   ]
  },
  {
   "cell_type": "code",
   "execution_count": 12,
   "metadata": {},
   "outputs": [],
   "source": [
    "def dg_dalpha(gaussian, alpha):\n",
    "    return -1/alpha*gaussian + 1/alpha*h(gaussian, alpha) +1\n",
    "\n",
    "def d2g_dalpha2(gaussian, alpha):\n",
    "    return 2/alpha**2*gaussian - 1/alpha - 2/alpha**2*h(gaussian, alpha) - 1/alpha*h(gaussian,alpha)**2"
   ]
  },
  {
   "cell_type": "markdown",
   "metadata": {},
   "source": [
    "$$\\textbf{K} \\equiv g g^\\intercal$$\n",
    "$$\\textbf{K}_{,\\alpha} = g_{,\\alpha} g^\\intercal + g g_{,\\alpha}^\\intercal$$\n",
    "$$\\textbf{K}_{,\\alpha \\alpha} = g_{,\\alpha \\alpha} g^\\intercal + g g_{,\\alpha \\alpha}^\\intercal + 2 g_{,\\alpha} g_{,\\alpha}^\\intercal$$"
   ]
  },
  {
   "cell_type": "code",
   "execution_count": 13,
   "metadata": {},
   "outputs": [],
   "source": [
    "def dK_dalpha(gaussian, alpha):\n",
    "    return 2*dg_dalpha(gaussian, alpha)*gaussian\n",
    "\n",
    "def d2K_dalpha2(gaussian, alpha):\n",
    "    return 2*d2g_dalpha2(gaussian, alpha)*gaussian + 2*dg_dalpha(gaussian, alpha)**2"
   ]
  },
  {
   "cell_type": "markdown",
   "metadata": {},
   "source": [
    "# Check the parameter-dependence of various fields"
   ]
  },
  {
   "cell_type": "markdown",
   "metadata": {},
   "source": [
    "Here we run some Gaussian simulations with fixed values for $\\beta$ and $N_\\mathrm{pix}$."
   ]
  },
  {
   "cell_type": "code",
   "execution_count": 14,
   "metadata": {},
   "outputs": [],
   "source": [
    "beta=0.5\n",
    "Lside=20"
   ]
  },
  {
   "cell_type": "code",
   "execution_count": 15,
   "metadata": {},
   "outputs": [],
   "source": [
    "rsq=LogNormalField.compute_rsquared(Lside)\n",
    "xiG=LogNormalField.xi_G(rsq, beta)\n",
    "nfields=200\n",
    "alphas=np.linspace(0.05,0.8,30)"
   ]
  },
  {
   "cell_type": "code",
   "execution_count": 16,
   "metadata": {},
   "outputs": [],
   "source": [
    "g=np.array([(np.random.multivariate_normal(np.zeros(Lside*Lside),xiG)).reshape(Lside,Lside) for i in range(nfields)])"
   ]
  },
  {
   "cell_type": "markdown",
   "metadata": {},
   "source": [
    "Now we check the relations given in the paper:"
   ]
  },
  {
   "cell_type": "markdown",
   "metadata": {},
   "source": [
    "$$\\left\\langle h \\right\\rangle = \\frac{1}{\\alpha}\\left( 1- \\mathrm{e}^{\\alpha^2} \\right) $$"
   ]
  },
  {
   "cell_type": "code",
   "execution_count": 17,
   "metadata": {},
   "outputs": [
    {
     "data": {
      "text/plain": [
       "[<matplotlib.lines.Line2D at 0x150020147410>]"
      ]
     },
     "execution_count": 17,
     "metadata": {},
     "output_type": "execute_result"
    },
    {
     "data": {
      "image/png": "[encoded data removed]",
      "text/plain": [
       "<Figure size 432x288 with 1 Axes>"
      ]
     },
     "metadata": {
      "needs_background": "light"
     },
     "output_type": "display_data"
    }
   ],
   "source": [
    "def h_mean(alpha):\n",
    "    a=np.array([h(g[i], alpha) for i in range(nfields)])\n",
    "    a_m=np.array([a[i].mean() for i in range(nfields)])\n",
    "    return a_m.mean()\n",
    "\n",
    "plt.plot(alphas, np.array([h_mean(alpha) for alpha in alphas]))\n",
    "plt.plot(alphas, np.array([1/alpha*(1-np.exp(alpha**2)) for alpha in alphas]))"
   ]
  },
  {
   "cell_type": "markdown",
   "metadata": {},
   "source": [
    "$$\\left\\langle \\mathrm{e}^{\\alpha g} \\left(\\mathrm{e}^{\\alpha g}\\right)^\\intercal \\right\\rangle = \\mathrm{e}^{\\alpha^2} \\exp(\\alpha^2 \\boldsymbol{\\Xi}_\\mathrm{G})$$"
   ]
  },
  {
   "cell_type": "code",
   "execution_count": 18,
   "metadata": {},
   "outputs": [
    {
     "data": {
      "text/plain": [
       "[<matplotlib.lines.Line2D at 0x150020045110>]"
      ]
     },
     "execution_count": 18,
     "metadata": {},
     "output_type": "execute_result"
    },
    {
     "data": {
      "image/png": "[encoded data removed]",
      "text/plain": [
       "<Figure size 432x288 with 1 Axes>"
      ]
     },
     "metadata": {
      "needs_background": "light"
     },
     "output_type": "display_data"
    }
   ],
   "source": [
    "def expag_expag_mean(alpha):\n",
    "    a=np.array([np.exp(alpha*g[i])*np.exp(alpha*g[i]) for i in range(nfields)])\n",
    "    a_m=np.array([a[i].mean() for i in range(nfields)])\n",
    "    return a_m.mean()\n",
    "\n",
    "plt.plot(alphas, np.array([expag_expag_mean(alpha) for alpha in alphas]))\n",
    "plt.plot(alphas, np.array([np.exp(alpha**2)*np.exp(alpha**2) for alpha in alphas]))"
   ]
  },
  {
   "cell_type": "markdown",
   "metadata": {},
   "source": [
    "$$\\left\\langle \\mathrm{e}^{\\alpha g} g^\\intercal \\right\\rangle = \\mathrm{e}^{\\frac{\\alpha^2}{2}} \\alpha \\boldsymbol{\\Xi}_\\mathrm{G}$$"
   ]
  },
  {
   "cell_type": "code",
   "execution_count": 19,
   "metadata": {},
   "outputs": [
    {
     "data": {
      "text/plain": [
       "[<matplotlib.lines.Line2D at 0x14fff83bef50>]"
      ]
     },
     "execution_count": 19,
     "metadata": {},
     "output_type": "execute_result"
    },
    {
     "data": {
      "image/png": "[encoded data removed]",
      "text/plain": [
       "<Figure size 432x288 with 1 Axes>"
      ]
     },
     "metadata": {
      "needs_background": "light"
     },
     "output_type": "display_data"
    }
   ],
   "source": [
    "def expag_g_mean(alpha):\n",
    "    a=np.array([np.exp(alpha*g[i])*g[i] for i in range(nfields)])\n",
    "    a_m=np.array([a[i].mean() for i in range(nfields)])\n",
    "    return a_m.mean()\n",
    "\n",
    "plt.plot(alphas, np.array([expag_g_mean(alpha) for alpha in alphas]))\n",
    "plt.plot(alphas, np.array([np.exp(alpha**2/2)*alpha for alpha in alphas]))"
   ]
  },
  {
   "cell_type": "markdown",
   "metadata": {},
   "source": [
    "$$\\textbf{Q} \\equiv \\left\\langle hh^\\intercal \\right\\rangle = \\frac{1}{\\alpha^2} \\left[ \\mathrm{e}^{2\\alpha^2} \\exp(\\alpha^2 \\boldsymbol{\\Xi}_\\mathrm{G}) + (1-2\\mathrm{e}^{\\alpha^2}) \\textbf{1}.\\textbf{1}^\\intercal \\right]$$\n",
    "$$\\left\\langle h^2 \\right\\rangle = \\frac{1}{\\alpha^2} \\left(\\mathrm{e}^{3\\alpha^2} - 2\\mathrm{e}^{\\alpha^2} + 1 \\right)$$"
   ]
  },
  {
   "cell_type": "code",
   "execution_count": 20,
   "metadata": {},
   "outputs": [
    {
     "data": {
      "text/plain": [
       "[<matplotlib.lines.Line2D at 0x14fff835e390>]"
      ]
     },
     "execution_count": 20,
     "metadata": {},
     "output_type": "execute_result"
    },
    {
     "data": {
      "image/png": "[encoded data removed]",
      "text/plain": [
       "<Figure size 432x288 with 1 Axes>"
      ]
     },
     "metadata": {
      "needs_background": "light"
     },
     "output_type": "display_data"
    }
   ],
   "source": [
    "def h2_mean(alpha):\n",
    "    a=np.array([h(g[i], alpha)**2 for i in range(nfields)])\n",
    "    a_m=np.array([a[i].mean() for i in range(nfields)])\n",
    "    return a_m.mean()\n",
    "\n",
    "plt.plot(alphas, np.array([h2_mean(alpha) for alpha in alphas]))\n",
    "plt.plot(alphas, np.array([1/alpha**2*(np.exp(3*alpha**2)-2*np.exp(alpha**2)+1) for alpha in alphas]))"
   ]
  },
  {
   "cell_type": "markdown",
   "metadata": {},
   "source": [
    "$$\\textbf{R} \\equiv \\left\\langle hg^\\intercal \\right\\rangle = \\mathrm{e}^{\\alpha^2} \\boldsymbol{\\Xi}_\\mathrm{G} $$"
   ]
  },
  {
   "cell_type": "code",
   "execution_count": 21,
   "metadata": {},
   "outputs": [
    {
     "data": {
      "text/plain": [
       "[<matplotlib.lines.Line2D at 0x14fff82cfbd0>]"
      ]
     },
     "execution_count": 21,
     "metadata": {},
     "output_type": "execute_result"
    },
    {
     "data": {
      "image/png": "[encoded data removed]",
      "text/plain": [
       "<Figure size 432x288 with 1 Axes>"
      ]
     },
     "metadata": {
      "needs_background": "light"
     },
     "output_type": "display_data"
    }
   ],
   "source": [
    "def h_g_mean(alpha):\n",
    "    a=np.array([h(g[i],alpha)*g[i] for i in range(nfields)])\n",
    "    a_m=np.array([a[i].mean() for i in range(nfields)])\n",
    "    return a_m.mean()\n",
    "\n",
    "plt.plot(alphas, np.array([h_g_mean(alpha) for alpha in alphas]))\n",
    "plt.plot(alphas, np.array([np.exp(alpha**2) for alpha in alphas]))"
   ]
  },
  {
   "cell_type": "markdown",
   "metadata": {},
   "source": [
    "$$\\textbf{S} \\equiv \\left\\langle h^2 g^\\intercal \\right\\rangle = \\frac{2}{\\alpha} \\left(\\mathrm{e}^{\\alpha^2} - \\mathrm{e}^{3\\alpha^2} \\right) \\boldsymbol{\\Xi}_\\mathrm{G}$$"
   ]
  },
  {
   "cell_type": "code",
   "execution_count": 22,
   "metadata": {},
   "outputs": [
    {
     "data": {
      "text/plain": [
       "[<matplotlib.lines.Line2D at 0x14fff824a6d0>]"
      ]
     },
     "execution_count": 22,
     "metadata": {},
     "output_type": "execute_result"
    },
    {
     "data": {
      "image/png": "[encoded data removed]",
      "text/plain": [
       "<Figure size 432x288 with 1 Axes>"
      ]
     },
     "metadata": {
      "needs_background": "light"
     },
     "output_type": "display_data"
    }
   ],
   "source": [
    "def h2_g_mean(alpha):\n",
    "    a=np.array([h(g[i],alpha)**2*g[i] for i in range(nfields)])\n",
    "    a_m=np.array([a[i].mean() for i in range(nfields)])\n",
    "    return a_m.mean()\n",
    "\n",
    "plt.plot(alphas, np.array([h2_g_mean(alpha) for alpha in alphas]))\n",
    "plt.plot(alphas, np.array([2/alpha*(np.exp(alpha**2) - np.exp(3*alpha**2)) for alpha in alphas]))"
   ]
  },
  {
   "cell_type": "markdown",
   "metadata": {},
   "source": [
    "$$\\left\\langle \\textbf{K}_{,\\alpha} \\right\\rangle = \\frac{2}{\\alpha}(\\mathrm{e}^{\\alpha^2}-1) \\boldsymbol{\\Xi}_\\mathrm{G}$$"
   ]
  },
  {
   "cell_type": "code",
   "execution_count": 23,
   "metadata": {},
   "outputs": [
    {
     "data": {
      "text/plain": [
       "[<matplotlib.lines.Line2D at 0x14fff81c3550>]"
      ]
     },
     "execution_count": 23,
     "metadata": {},
     "output_type": "execute_result"
    },
    {
     "data": {
      "image/png": "[encoded data removed]",
      "text/plain": [
       "<Figure size 432x288 with 1 Axes>"
      ]
     },
     "metadata": {
      "needs_background": "light"
     },
     "output_type": "display_data"
    }
   ],
   "source": [
    "def dK_dalpha_mean(alpha):\n",
    "    a=np.array([dK_dalpha(g[i],alpha) for i in range(nfields)])\n",
    "    a_m=np.array([a[i].mean() for i in range(nfields)])\n",
    "    return a_m.mean()\n",
    "\n",
    "plt.plot(alphas, np.array([dK_dalpha_mean(alpha) for alpha in alphas]))\n",
    "plt.plot(alphas, np.array([2/alpha*(np.exp(alpha**2) - 1) for alpha in alphas]))"
   ]
  },
  {
   "cell_type": "markdown",
   "metadata": {},
   "source": [
    "$$\\left\\langle g_{,\\alpha} g_{,\\alpha}^\\intercal \\right\\rangle = \\frac{1}{\\alpha^2} \\boldsymbol{\\Xi}_\\mathrm{G} + \\frac{1}{\\alpha^2} \\textbf{Q} + \\left[1+ \\frac{2}{\\alpha^2} \\left( 1-\\mathrm{e}^{\\alpha^2} \\right) \\right] \\textbf{1}.\\textbf{1}^\\intercal - \\frac{2}{\\alpha^2} \\textbf{R}$$\n",
    "$$\\left\\langle g_{,\\alpha} g_{,\\alpha}^\\intercal \\right\\rangle = \\frac{1}{\\alpha^2}(1-2\\mathrm{e}^{\\alpha^2}) \\boldsymbol{\\Xi}_\\mathrm{G} + \\frac{1}{\\alpha^4}\\mathrm{e}^{2\\alpha^2} \\exp(\\alpha^2 \\boldsymbol{\\Xi}_\\mathrm{G}) + \\left[\\frac{1}{\\alpha^4} (1-2\\mathrm{e}^{\\alpha^2}) + 1 + \\frac{2}{\\alpha^2} (1-\\mathrm{e}^{\\alpha^2}) \\right] \\textbf{1}.\\textbf{1}^\\intercal$$"
   ]
  },
  {
   "cell_type": "code",
   "execution_count": 24,
   "metadata": {},
   "outputs": [
    {
     "data": {
      "text/plain": [
       "[<matplotlib.lines.Line2D at 0x14fff8139a90>]"
      ]
     },
     "execution_count": 24,
     "metadata": {},
     "output_type": "execute_result"
    },
    {
     "data": {
      "image/png": "[encoded data removed]",
      "text/plain": [
       "<Figure size 432x288 with 1 Axes>"
      ]
     },
     "metadata": {
      "needs_background": "light"
     },
     "output_type": "display_data"
    }
   ],
   "source": [
    "def dg_dalpha2_mean(alpha):\n",
    "    a=np.array([dg_dalpha(g[i],alpha)**2 for i in range(nfields)])\n",
    "    a_m=np.array([a[i].mean() for i in range(nfields)])\n",
    "    return a_m.mean()\n",
    "\n",
    "plt.plot(alphas, np.array([dg_dalpha2_mean(alpha) for alpha in alphas]))\n",
    "plt.plot(alphas, np.array([1/alpha**2*(1-2*np.exp(alpha**2)) +1/alpha**4*np.exp(3*alpha**2) + 1/alpha**4*(1-2*np.exp(alpha**2)) + 1 + 2/alpha**2*(1-np.exp(alpha**2)) for alpha in alphas]))"
   ]
  },
  {
   "cell_type": "markdown",
   "metadata": {},
   "source": [
    "$$\\left\\langle g_{,\\alpha\\alpha} g^\\intercal \\right\\rangle = \\frac{2}{\\alpha^2} \\boldsymbol{\\Xi}_\\mathrm{G} - \\frac{2}{\\alpha^2} \\textbf{R} - \\frac{1}{\\alpha}\\textbf{S}$$\n",
    "$$\\left\\langle g_{,\\alpha\\alpha} g^\\intercal \\right\\rangle = \\frac{2}{\\alpha^2} (1 - 2\\mathrm{e}^{\\alpha^2} + \\mathrm{e}^{3\\alpha^2}) \\boldsymbol{\\Xi}_\\mathrm{G}$$"
   ]
  },
  {
   "cell_type": "code",
   "execution_count": 25,
   "metadata": {},
   "outputs": [
    {
     "data": {
      "text/plain": [
       "[<matplotlib.lines.Line2D at 0x14fff80b7550>]"
      ]
     },
     "execution_count": 25,
     "metadata": {},
     "output_type": "execute_result"
    },
    {
     "data": {
      "image/png": "[encoded data removed]",
      "text/plain": [
       "<Figure size 432x288 with 1 Axes>"
      ]
     },
     "metadata": {
      "needs_background": "light"
     },
     "output_type": "display_data"
    }
   ],
   "source": [
    "def d2g_dalpha2g_mean(alpha):\n",
    "    a=np.array([d2g_dalpha2(g[i],alpha)*g[i] for i in range(nfields)])\n",
    "    a_m=np.array([a[i].mean() for i in range(nfields)])\n",
    "    return a_m.mean()\n",
    "\n",
    "plt.plot(alphas, np.array([d2g_dalpha2g_mean(alpha) for alpha in alphas]))\n",
    "plt.plot(alphas, np.array([2/alpha**2*(1-2*np.exp(alpha**2)+np.exp(3*alpha**2)) for alpha in alphas]))"
   ]
  },
  {
   "cell_type": "markdown",
   "metadata": {},
   "source": [
    "$$\\left\\langle \\textbf{K}_{,\\alpha\\alpha} \\right\\rangle = \\frac{2}{\\alpha^2} \\left(3 - 6\\mathrm{e}^{\\alpha^2} + 2\\mathrm{e}^{3\\alpha^2}\\right) \\boldsymbol{\\Xi}_\\mathrm{G} + \\frac{2}{\\alpha^4} \\mathrm{e}^{2\\alpha^2} \\exp(\\alpha^2 \\boldsymbol{\\Xi}_\\mathrm{G}) + 2\\left[\\frac{1}{\\alpha^4} (1-2\\mathrm{e}^{\\alpha^2}) + 1 + \\frac{2}{\\alpha^2} (1-\\mathrm{e}^{\\alpha^2}) \\right] \\textbf{1}.\\textbf{1}^\\intercal$$"
   ]
  },
  {
   "cell_type": "code",
   "execution_count": 26,
   "metadata": {},
   "outputs": [
    {
     "data": {
      "text/plain": [
       "[<matplotlib.lines.Line2D at 0x14fff802ae10>]"
      ]
     },
     "execution_count": 26,
     "metadata": {},
     "output_type": "execute_result"
    },
    {
     "data": {
      "image/png": "[encoded data removed]",
      "text/plain": [
       "<Figure size 432x288 with 1 Axes>"
      ]
     },
     "metadata": {
      "needs_background": "light"
     },
     "output_type": "display_data"
    }
   ],
   "source": [
    "def d2K_dalpha2_mean(alpha):\n",
    "    a=np.array([d2K_dalpha2(g[i],alpha) for i in range(nfields)])\n",
    "    a_m=np.array([a[i].mean() for i in range(nfields)])\n",
    "    return a_m.mean()\n",
    "\n",
    "plt.plot(alphas, np.array([d2K_dalpha2_mean(alpha) for alpha in alphas]))\n",
    "plt.plot(alphas, np.array([2/alpha**2*(3-6*np.exp(alpha**2)+2*np.exp(3*alpha**2)) + 2/alpha**4*np.exp(3*alpha**2) + 2* (1/alpha**4*(1-2*np.exp(alpha**2)) + 1 + 2/alpha**2*(1-np.exp(alpha**2))) for alpha in alphas]))"
   ]
  },
  {
   "cell_type": "markdown",
   "metadata": {},
   "source": [
    "# Fisher forecast for a full field analysis"
   ]
  },
  {
   "cell_type": "markdown",
   "metadata": {},
   "source": [
    "We define here the $\\boldsymbol{\\Xi}_{G,\\beta}$ and $\\exp(\\alpha^2\\boldsymbol{\\Xi}_{G})$ matrices, using\n",
    "$$\\xi_\\mathrm{G}(r) = \\exp\\left(-\\frac{1}{4} \\frac{r^2}{\\beta^2}\\right),$$\n",
    "$$\\xi_\\mathrm{G,\\beta}(r) = \\frac{r^2}{2\\beta^3} \\exp\\left(-\\frac{1}{4} \\frac{r^2}{\\beta^2}\\right),$$\n",
    "$$\\exp(\\alpha^2\\xi_\\mathrm{G})(r) = \\exp\\left[ \\alpha^2 \\exp\\left(-\\frac{1}{4} \\frac{r^2}{\\beta^2}\\right) \\right].$$"
   ]
  },
  {
   "cell_type": "code",
   "execution_count": 27,
   "metadata": {},
   "outputs": [],
   "source": [
    "def dxiGdbeta(rsq, beta):\n",
    "    import numpy as np\n",
    "    \n",
    "    dxiGdbeta = 1/2*rsq/(beta**3) * np.exp(-0.25*rsq/(beta**2))\n",
    "\n",
    "    return dxiGdbeta\n",
    "\n",
    "def expalpha2xiG(rsq, alpha, beta):\n",
    "    import numpy as np\n",
    "    \n",
    "    ea2xiG = np.exp(alpha**2* np.exp(-0.25*rsq/(beta**2)))\n",
    "    return ea2xiG"
   ]
  },
  {
   "cell_type": "markdown",
   "metadata": {},
   "source": [
    "Now we define the Fisher matrix:\n",
    "$$F_{\\alpha \\alpha} = \\frac{N_\\mathrm{pix}}{\\alpha^2} \\left( 2 - 4\\mathrm{e}^{\\alpha^2} + \\mathrm{e}^{3\\alpha^2} \\right) + \\frac{\\mathrm{e}^{2\\alpha^2}}{\\alpha^4} \\mathrm{tr} \\left[\\boldsymbol{\\Xi}_\\mathrm{G}^{-1} \\exp(\\alpha^2 \\boldsymbol{\\Xi}_\\mathrm{G}) \\right] + \\left[\\frac{1}{\\alpha^4} (1-2\\mathrm{e}^{\\alpha^2}) + 1 + \\frac{2}{\\alpha^2} (1-\\mathrm{e}^{\\alpha^2}) \\right] \\mathrm{tr} \\left( \\boldsymbol{\\Xi}_\\mathrm{G}^{-1} \\textbf{1}.\\textbf{1}^\\intercal \\right),$$"
   ]
  },
  {
   "cell_type": "code",
   "execution_count": 28,
   "metadata": {},
   "outputs": [],
   "source": [
    "def Faa_T1(Lside, alpha):\n",
    "    T1=Lside**2/alpha**2 * (2-4*np.exp(alpha**2)+np.exp(3*alpha**2))\n",
    "    return T1\n",
    "\n",
    "def Faa_T2(Lside, alpha):\n",
    "    from libLN import LogNormalField\n",
    "    rsq=LogNormalField.compute_rsquared(Lside)\n",
    "    xi=LogNormalField.xi_G(rsq, beta)\n",
    "    ixi=np.linalg.inv(xi)\n",
    "    ea2xi=expalpha2xiG(rsq, alpha, beta)\n",
    "    \n",
    "    T2=np.exp(2*alpha**2)/alpha**4 * np.trace(ixi.dot(ea2xi))\n",
    "    return T2\n",
    "    \n",
    "def Faa_T3(Lside, alpha):\n",
    "    import numpy as np\n",
    "    from libLN import LogNormalField\n",
    "    rsq=LogNormalField.compute_rsquared(Lside)\n",
    "    xi=LogNormalField.xi_G(rsq, beta)\n",
    "    ixi=np.linalg.inv(xi)\n",
    "    oneone=np.ones((Lside*Lside,Lside*Lside))\n",
    "    \n",
    "    T3=( 1/alpha**4*(1-2*np.exp(alpha**2)) + 1 + 2/alpha**2*(1-np.exp(alpha**2)) ) * np.trace(ixi.dot(oneone))\n",
    "    return T3\n",
    "\n",
    "def Faa(Lside, alpha):\n",
    "    return Faa_T1(Lside, alpha) + Faa_T2(Lside, alpha) + Faa_T3(Lside, alpha)"
   ]
  },
  {
   "cell_type": "markdown",
   "metadata": {},
   "source": [
    "$$F_{\\alpha \\beta} = \\frac{1-\\mathrm{e}^{\\alpha^2}}{\\alpha} \\mathrm{tr}( \\boldsymbol{\\Xi}_\\mathrm{G}^{-1} \\boldsymbol{\\Xi}_\\mathrm{G,\\beta} ),$$"
   ]
  },
  {
   "cell_type": "code",
   "execution_count": 29,
   "metadata": {},
   "outputs": [],
   "source": [
    "def Fab(Lside, alpha, beta):\n",
    "    import numpy as np\n",
    "    from libLN import LogNormalField\n",
    "    rsq=LogNormalField.compute_rsquared(Lside)\n",
    "    xi=LogNormalField.xi_G(rsq, beta)\n",
    "    ixi=np.linalg.inv(xi)\n",
    "    dxi=dxiGdbeta(rsq, beta)\n",
    "    return (1-np.exp(alpha**2))/alpha * np.trace(ixi.dot(dxi))"
   ]
  },
  {
   "cell_type": "markdown",
   "metadata": {},
   "source": [
    "$$F_\\mathrm{\\beta\\beta} = \\frac{1}{2} \\mathrm{tr}( \\boldsymbol{\\Xi}_\\mathrm{G}^{-1} \\boldsymbol{\\Xi}_\\mathrm{G,\\beta} \\boldsymbol{\\Xi}_\\mathrm{G}^{-1} \\boldsymbol{\\Xi}_\\mathrm{G,\\beta} ).$$"
   ]
  },
  {
   "cell_type": "code",
   "execution_count": 30,
   "metadata": {},
   "outputs": [],
   "source": [
    "def Fbb(Lside, beta):\n",
    "    import numpy as np\n",
    "    from libLN import LogNormalField\n",
    "    rsq=LogNormalField.compute_rsquared(Lside)\n",
    "    xi=LogNormalField.xi_G(rsq, beta)\n",
    "    ixi=np.linalg.inv(xi)\n",
    "    dxi=dxiGdbeta(rsq, beta)\n",
    "    return 1/2. * np.trace(ixi.dot(dxi).dot(ixi).dot(dxi))"
   ]
  },
  {
   "cell_type": "code",
   "execution_count": 31,
   "metadata": {},
   "outputs": [],
   "source": [
    "def Fisher_matrix(Lside, alpha, beta):\n",
    "    import numpy as np\n",
    "    return np.array([[Faa(Lside,alpha),Fab(Lside,alpha,beta)],[Fab(Lside,alpha,beta),Fbb(Lside,beta)]])"
   ]
  },
  {
   "cell_type": "markdown",
   "metadata": {},
   "source": [
    "We now compare expected and realised errors on $\\alpha$ and $\\beta$:"
   ]
  },
  {
   "cell_type": "code",
   "execution_count": 32,
   "metadata": {},
   "outputs": [
    {
     "name": "stdout",
     "output_type": "stream",
     "text": [
      "Figures saved at figures/Output20_05_10_80_80_500_80_1_123456\n",
      "Simulations saved at data/Sims20_05_10_80_80_500_80_1_123456\n"
     ]
    }
   ],
   "source": [
    "run config_10.py"
   ]
  },
  {
   "cell_type": "code",
   "execution_count": 33,
   "metadata": {},
   "outputs": [
    {
     "name": "stdout",
     "output_type": "stream",
     "text": [
      "Lside = 20\n",
      "alpha = 1.0\n",
      "beta = 0.5\n",
      "\n",
      "Fisher matrix:\n",
      "[[11008.1862026   2088.17538292]\n",
      " [ 2088.17538292  5815.55875945]]\n",
      "\n",
      "Expected errors (Cramér-Rao bounds):\n",
      "[0.00987326 0.01358384]\n",
      "\n",
      "Realised errors:\n",
      "[0.01185679 0.01462795] data/Data20_05_10_80_80_500_80_1_123456_da_0.npz\n",
      "[0.01417958 0.01336487] data/Data20_05_10_80_80_500_80_1_123456_da_1.npz\n",
      "[0.01185842 0.01383144] data/Data20_05_10_80_80_500_80_1_123456_da_2.npz\n",
      "[0.01557115 0.0137803 ] data/Data20_05_10_80_80_500_80_1_123456_da_3.npz\n"
     ]
    }
   ],
   "source": [
    "print(\"Lside =\", Lside)\n",
    "print(\"alpha =\", alpha)\n",
    "print(\"beta =\", beta)\n",
    "print(\"\")\n",
    "\n",
    "F=Fisher_matrix(Lside, alpha, beta)\n",
    "print(\"Fisher matrix:\")\n",
    "print(F)\n",
    "print(\"\")\n",
    "\n",
    "print(\"Expected errors (Cramér-Rao bounds):\")\n",
    "print(marginal_errors(F))\n",
    "print(\"\")\n",
    "\n",
    "print(\"Realised errors:\")\n",
    "f=0\n",
    "while True:\n",
    "    try:\n",
    "        fname=dataout+'_da_'+str(f)+'.npz'\n",
    "        A=np.load(fname)\n",
    "        alpha_samples=A['samples'].T[0]\n",
    "        beta_samples=A['samples'].T[1]\n",
    "        alpha_std=np.std(alpha_samples)\n",
    "        beta_std=np.std(beta_samples)\n",
    "        print(np.array([alpha_std, beta_std]), fname)\n",
    "        f+=1\n",
    "    except IOError:\n",
    "        break"
   ]
  },
  {
   "cell_type": "code",
   "execution_count": 34,
   "metadata": {},
   "outputs": [
    {
     "name": "stdout",
     "output_type": "stream",
     "text": [
      "Figures saved at figures/Output20_05_02_80_80_500_80_1_123457\n",
      "Simulations saved at data/Sims20_05_02_80_80_500_80_1_123457\n"
     ]
    }
   ],
   "source": [
    "run config_02.py"
   ]
  },
  {
   "cell_type": "code",
   "execution_count": 35,
   "metadata": {},
   "outputs": [
    {
     "name": "stdout",
     "output_type": "stream",
     "text": [
      "Lside = 20\n",
      "alpha = 0.2\n",
      "beta = 0.5\n",
      "\n",
      "Fisher matrix:\n",
      "[[ 819.88211143  247.98043201]\n",
      " [ 247.98043201 5815.55875945]]\n",
      "\n",
      "Expected errors (Cramér-Rao bounds):\n",
      "[0.03515144 0.01319845]\n",
      "\n",
      "Realised errors:\n",
      "[0.03169032 0.01296363] data/Data20_05_02_80_80_500_80_1_123457_da_0.npz\n",
      "[0.0350821  0.01399202] data/Data20_05_02_80_80_500_80_1_123457_da_1.npz\n"
     ]
    }
   ],
   "source": [
    "print(\"Lside =\", Lside)\n",
    "print(\"alpha =\", alpha)\n",
    "print(\"beta =\", beta)\n",
    "print(\"\")\n",
    "\n",
    "F=Fisher_matrix(Lside, alpha, beta)\n",
    "print(\"Fisher matrix:\")\n",
    "print(F)\n",
    "print(\"\")\n",
    "\n",
    "print(\"Expected errors (Cramér-Rao bounds):\")\n",
    "print(marginal_errors(F))\n",
    "print(\"\")\n",
    "\n",
    "print(\"Realised errors:\")\n",
    "f=0\n",
    "while True:\n",
    "    try:\n",
    "        fname=dataout+'_da_'+str(f)+'.npz'\n",
    "        A=np.load(fname)\n",
    "        alpha_samples=A['samples'].T[0]\n",
    "        beta_samples=A['samples'].T[1]\n",
    "        alpha_std=np.std(alpha_samples)\n",
    "        beta_std=np.std(beta_samples)\n",
    "        print(np.array([alpha_std, beta_std]), fname)\n",
    "        f+=1\n",
    "    except IOError:\n",
    "        break"
   ]
  }
 ],
 "metadata": {
  "kernelspec": {
   "display_name": "Python 3",
   "language": "python",
   "name": "python3"
  },
  "language_info": {
   "codemirror_mode": {
    "name": "ipython",
    "version": 3
   },
   "file_extension": ".py",
   "mimetype": "text/x-python",
   "name": "python",
   "nbconvert_exporter": "python",
   "pygments_lexer": "ipython3",
   "version": "3.7.9"
  }
 },
 "nbformat": 4,
 "nbformat_minor": 4
}
